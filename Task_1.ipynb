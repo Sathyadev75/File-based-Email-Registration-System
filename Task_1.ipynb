{
  "cells": [
    {
      "cell_type": "markdown",
      "metadata": {
        "id": "view-in-github",
        "colab_type": "text"
      },
      "source": [
        "<a href=\"https://colab.research.google.com/github/Sathyadev75/File-based-Email-Registration-System/blob/main/Task_1.ipynb\" target=\"_parent\"><img src=\"https://colab.research.google.com/assets/colab-badge.svg\" alt=\"Open In Colab\"/></a>"
      ]
    },
    {
      "cell_type": "code",
      "execution_count": 48,
      "metadata": {
        "id": "1hAtiiCaEiNx"
      },
      "outputs": [],
      "source": [
        "\n",
        "special_char=[]\n",
        "\n",
        "for i in range(33,48):\n",
        "  special_char.append(i)\n",
        "\n",
        "for j in range(58,65):\n",
        "   special_char.append(j)\n",
        "\n",
        "for k in range(91,98):\n",
        "  special_char.append(k)\n",
        "\n",
        "for l in range(121,127):\n",
        "  special_char.append(l)\n",
        "\n",
        "digits=[]\n",
        "for i in range(48,58):\n",
        "  digits.append(i)\n",
        "\n",
        "\n",
        "upper_char=[]\n",
        "for i in range(65,91):\n",
        "  upper_char.append(i)\n",
        "\n",
        "lower_char=[]\n",
        "for i in range(97,123):\n",
        "  lower_char.append(i)"
      ]
    },
    {
      "cell_type": "markdown",
      "metadata": {
        "id": "b26GdBmBFjaZ"
      },
      "source": [
        "STAGE 1:\n",
        "REGISTER"
      ]
    },
    {
      "cell_type": "code",
      "execution_count": 49,
      "metadata": {
        "id": "HsqINwXIFoA8"
      },
      "outputs": [],
      "source": [
        "\n",
        "def get_email():\n",
        "   mail=input(\"enter mail : \")\n",
        "   if email_check(mail):\n",
        "       return mail\n",
        "   else:\n",
        "       print(\"invalid mail\")\n",
        "       s=(input(\"enter 1 to get new mail else 0 to home page : \"))\n",
        "       if s==\"1\":\n",
        "          get_email()\n",
        "       elif s==\"0\":\n",
        "          print(\"going to home page\")\n",
        "          home()\n",
        "\n",
        "\n",
        "def get_password():\n",
        "   password=input(\"enter password : \")\n",
        "   if password_check(password):\n",
        "        return password\n",
        "\n",
        "   else:\n",
        "      print(\"invalid password\")\n",
        "      s=input(\"press 1 to renter password else 0 to return to home page : \")\n",
        "      if s==\"1\":\n",
        "        get_password()\n",
        "      elif s==\"0\":\n",
        "        home()\n",
        "\n",
        "# check the email ends with @gmail.com and first element is not numeric\n",
        "def email_check(mail):\n",
        "\n",
        "       if len(mail)>10 and mail[-1:-11:-1]==\"moc.liamg@\" and mail[0].isalpha():\n",
        "               return True\n",
        "       else:\n",
        "         return False\n",
        "\n",
        "\n",
        "#check password length within (4,11) and have one atleast  [Upper case,lower case,special character,digit]\n",
        "\n",
        "def password_check(password):\n",
        "  if len(password)>4 and len(password)<17:\n",
        "       upper=False\n",
        "       lower=False\n",
        "       special=False\n",
        "       digit=False\n",
        "       for i in list(password):\n",
        "          if ord(i) in upper_char:\n",
        "             upper=True\n",
        "\n",
        "          if ord(i) in lower_char:\n",
        "             lower=True\n",
        "\n",
        "          if ord(i) in special_char:\n",
        "             special=True\n",
        "\n",
        "          if ord(i) in digits:\n",
        "             digit=True\n",
        "\n",
        "       if upper==True and lower==True and digit==True and special==True:\n",
        "             return True\n",
        "       else:\n",
        "           return False\n",
        "\n"
      ]
    },
    {
      "cell_type": "markdown",
      "metadata": {
        "id": "pOuHgf9Hyitm"
      },
      "source": [
        "Stage 2 :storing data in file after validating"
      ]
    },
    {
      "cell_type": "code",
      "execution_count": 50,
      "metadata": {
        "id": "q6JJrnxiyxT3"
      },
      "outputs": [],
      "source": [
        "#save mailid and password in file\n",
        "import json\n",
        "\n",
        "\n",
        "def new_file():\n",
        "    database={\"key\":\"vaule\"}\n",
        "    with open (\"database.json\",\"w\", ) as file:\n",
        "        json.dump(database,file)\n",
        "\n",
        "\n",
        "new_file()\n",
        "\n",
        "\n",
        "\n",
        "\n",
        "def savefile(mail,password):\n",
        "     data= open_data_r()\n",
        "     if mail in data.keys():\n",
        "          print(\"mail already exist\")\n",
        "          print(\"go to login page\")\n",
        "          home()\n",
        "     else:\n",
        "         open_data_w(mail,password)\n",
        "         print(\"successfully registered\")\n",
        "         print(\"\\n\")\n",
        "         home()\n",
        "\n",
        "\n",
        "def check_databasemail(mail,password):\n",
        "      data=open_data_r()\n",
        "      if mail in data.keys():\n",
        "        if data[mail]==password:\n",
        "           return True\n",
        "        else:\n",
        "          print(\"incorrect password\")\n",
        "          inp=input(\"enter 0 for get password else 1 to change password: \")\n",
        "          if inp == \"0\":\n",
        "            print(data[mail])\n",
        "            home()\n",
        "          elif inp == \"1\":\n",
        "            change_password(mail)\n",
        "      else:\n",
        "          print(\"user id not exist\")\n",
        "          return False\n",
        "\n",
        "def change_password(mail):\n",
        "      data=open(\"database.json\",\"r\")\n",
        "      data=json.load(data)\n",
        "      password=get_password()\n",
        "      data[mail]=password\n",
        "      with open (\"database.json\",\"w\") as file:\n",
        "         json.dump(data,file)\n",
        "         print(\"password_changed\")\n",
        "\n",
        "\n",
        "def email_data(mail):\n",
        "            data=open_data_r()\n",
        "            if mail in data.keys():\n",
        "                return True\n",
        "\n",
        "def password_data(mail,password):\n",
        "  data=open_data_r()\n",
        "  if (data[mail]==password):\n",
        "    return True\n",
        "  else:\n",
        "       user_input=input(\"enter \\n1 to check password \\2 to change password \\3 to return to home page \")\n",
        "\n",
        "       if user_input ==\"1\":\n",
        "          print(\"password is \",check_password(mail))\n",
        "\n",
        "       elif user_input == \"2\":\n",
        "          change_password(mail)\n",
        "  home()\n",
        "\n",
        "\n",
        "def check_password(mail):\n",
        "  data=open_data_r()\n",
        "  return data\n",
        "\n",
        "\n",
        "def open_data_r():\n",
        "  data=open(\"database.json\",\"r\")\n",
        "  data=json.load(data)\n",
        "  return data\n",
        "\n",
        "\n",
        "\n",
        "def open_data_w(mail,password):\n",
        "  data=open_data_r()\n",
        "  data[mail]=password\n",
        "\n",
        "  with open(\"database.json\",\"w\") as file:\n",
        "    json.dump(data,file)\n",
        "\n",
        "\n"
      ]
    },
    {
      "cell_type": "markdown",
      "metadata": {
        "id": "p1lN3KLX7kKq"
      },
      "source": [
        "Stage 3 : LOGIN"
      ]
    },
    {
      "cell_type": "code",
      "execution_count": 51,
      "metadata": {
        "id": "yVS_zj3z7o86"
      },
      "outputs": [],
      "source": [
        "\n",
        "def home():\n",
        "\n",
        "     print(\"\\t\")\n",
        "     user_input=input(\"1 for Register \\n2 for login : \\n3 for exit : \")\n",
        "\n",
        "     if user_input == \"1\":\n",
        "         register()\n",
        "     elif user_input == \"2\":\n",
        "         login()\n",
        "     elif user_input ==\"3\":\n",
        "         pass\n",
        "\n",
        "\n",
        "\n",
        "#to register\n",
        "def register():\n",
        "\n",
        "      mail=get_email()\n",
        "      password=get_password()\n",
        "      print(mail,password)\n",
        "      if email_data(mail):\n",
        "        print(\"mail already exist\")\n",
        "        print(\"redirecting to login page\")\n",
        "        login()\n",
        "      else:\n",
        "         s=savefile(mail,password)\n",
        "      home()\n",
        "\n",
        "\n",
        "\n",
        "def login():\n",
        "            mail=get_email()\n",
        "            if email_data(mail):\n",
        "              password=get_password()\n",
        "              print(mail,password)\n",
        "              if password_data(mail,password):\n",
        "                   print(\"login succesful\")\n",
        "                   home()\n",
        "\n",
        "            else:\n",
        "              print(\"mail not exist\")\n",
        "              user_input=input(\"enter 1 to register mail or 0 to enter mail: \")\n",
        "              if user_input ==\"1\":\n",
        "                  password=get_password()\n",
        "                  savefile(mail,password)\n",
        "                  home()\n",
        "              if user_input ==\"0\":\n",
        "                  login()\n",
        "\n"
      ]
    },
    {
      "cell_type": "code",
      "source": [
        "home()"
      ],
      "metadata": {
        "colab": {
          "base_uri": "https://localhost:8080/"
        },
        "id": "M_EY4D1ANCbR",
        "outputId": "b1a3ca20-a85a-4403-8f83-80de0a00dcc8"
      },
      "execution_count": 52,
      "outputs": [
        {
          "name": "stdout",
          "output_type": "stream",
          "text": [
            "\t\n",
            "1 for Register \n",
            "2 for login : \n",
            "3 for exit : 3\n"
          ]
        }
      ]
    }
  ],
  "metadata": {
    "colab": {
      "provenance": [],
      "authorship_tag": "ABX9TyM0azOpGHZmrBGcXwsVYyoL",
      "include_colab_link": true
    },
    "kernelspec": {
      "display_name": "Python 3",
      "name": "python3"
    },
    "language_info": {
      "name": "python"
    }
  },
  "nbformat": 4,
  "nbformat_minor": 0
}